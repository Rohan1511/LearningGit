{
  "nbformat": 4,
  "nbformat_minor": 0,
  "metadata": {
    "colab": {
      "name": "importing_data.ipynb",
      "provenance": [],
      "authorship_tag": "ABX9TyN1EOS4iS6wz6unkkyMHYGy",
      "include_colab_link": true
    },
    "kernelspec": {
      "name": "python3",
      "display_name": "Python 3"
    },
    "language_info": {
      "name": "python"
    }
  },
  "cells": [
    {
      "cell_type": "markdown",
      "metadata": {
        "id": "view-in-github",
        "colab_type": "text"
      },
      "source": [
        "<a href=\"https://colab.research.google.com/github/Rohan1511/LearningGit/blob/main/importing_data.ipynb\" target=\"_parent\"><img src=\"https://colab.research.google.com/assets/colab-badge.svg\" alt=\"Open In Colab\"/></a>"
      ]
    },
    {
      "cell_type": "markdown",
      "metadata": {
        "id": "CRBxcLN3tWmc"
      },
      "source": [
        "#### Importing Dataset in Google Collab from Google Drive"
      ]
    },
    {
      "cell_type": "markdown",
      "metadata": {
        "id": "SxsL9uLovngl"
      },
      "source": [
        "#### Its easy, store your data in your drive and then import in collab using package gdown"
      ]
    },
    {
      "cell_type": "code",
      "metadata": {
        "id": "mEBSWvfrtbWq"
      },
      "source": [
        "import gdown #Library used \n",
        "import os as os #To navigate in folders"
      ],
      "execution_count": 13,
      "outputs": []
    },
    {
      "cell_type": "markdown",
      "metadata": {
        "id": "UrJFaI6Aysyt"
      },
      "source": [
        "After Importing libraries, we see the structure of how files are stored here. In the left you can see a folder symbol. Check it out ! Think of it as your local folder where you can store all the data. \n",
        "\n",
        "Let's start with how to create a folder and then import your data from drive to here.  The idea here is to make a new directory if there is already not one."
      ]
    },
    {
      "cell_type": "code",
      "metadata": {
        "colab": {
          "base_uri": "https://localhost:8080/"
        },
        "id": "_c8up5aizdQy",
        "outputId": "0949e5c5-f092-4909-ee56-822834ac0ca6"
      },
      "source": [
        "print('Your Current Working directory is :' + os.getcwd()) #Current working directory. \n",
        "dir_name = 'NASA_flood2021'\n",
        "if os.path.isdir(dir_name) is False: #is there a directory; 1 'yes or True' otherwise 0\n",
        "  os.mkdir(dir_name)                 # Make directory\n",
        "print(dir_name + '  already Exists') #Print if the if condition is not satisfied"
      ],
      "execution_count": 40,
      "outputs": [
        {
          "output_type": "stream",
          "text": [
            "Your Current Working directory is :/content\n",
            "NASA_flood2021  already Exists\n"
          ],
          "name": "stdout"
        }
      ]
    },
    {
      "cell_type": "markdown",
      "metadata": {
        "id": "NfjH2o4IzQ9n"
      },
      "source": [
        ""
      ]
    },
    {
      "cell_type": "code",
      "metadata": {
        "id": "05WH7dcXtD03"
      },
      "source": [
        "# Download dataset from google drive links \n",
        "\n",
        "\n",
        "url = 'https://drive.google.com/file/d/1T1aPV64D90vK_TpvRM1GLdKWuJXTd65I/view?usp=sharing'\n",
        "output = '/content/NASA_flood2021/val.zip' #Path to store\n",
        "gdown.download(url, output, quiet=False)\n",
        "\n",
        "url = 'https://drive.google.com/file/d/1hZUT7gfWZn8BPissAlgg0zhoCkhoLDCg/view?usp=sharing'\n",
        "output = '/content/NASA_flood2021/train.zip'\n",
        "gdown.download(url, output, quiet=False)\n",
        "\n"
      ],
      "execution_count": null,
      "outputs": []
    }
  ]
}