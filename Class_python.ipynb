{
  "nbformat": 4,
  "nbformat_minor": 0,
  "metadata": {
    "colab": {
      "name": "Class_python",
      "provenance": [],
      "authorship_tag": "ABX9TyMXuzMo/Qzhpu4LzkAYX8vB",
      "include_colab_link": true
    },
    "kernelspec": {
      "name": "python3",
      "display_name": "Python 3"
    },
    "language_info": {
      "name": "python"
    }
  },
  "cells": [
    {
      "cell_type": "markdown",
      "metadata": {
        "id": "view-in-github",
        "colab_type": "text"
      },
      "source": [
        "<a href=\"https://colab.research.google.com/github/Rohan1511/LearningGit/blob/main/Class_python.ipynb\" target=\"_parent\"><img src=\"https://colab.research.google.com/assets/colab-badge.svg\" alt=\"Open In Colab\"/></a>"
      ]
    },
    {
      "cell_type": "markdown",
      "metadata": {
        "id": "LHvGiSSMwIVp"
      },
      "source": [
        "We learn how the class funtions in python. Below you will see how to create a class and then define multiple functions in the class. "
      ]
    },
    {
      "cell_type": "code",
      "metadata": {
        "id": "Jn_n_GJBoW-F"
      },
      "source": [
        "class EnterMarks():\n",
        "  def __init__(self,maths,physics,chem):\n",
        "    self.maths=maths\n",
        "    self.physics=physics\n",
        "    self.chem=chem\n",
        "\n",
        "  def show_marks(self):\n",
        "    print(\"The marks in Maths is \",  self.maths)\n",
        "    print(\"The marks in Physics is \",  self.physics)\n",
        "    print(\"The marks in Chem is \",  self.chem)\n",
        "\n",
        "  def max_marks(self):\n",
        "    return max(self.maths, self.physics, self.chem);\n",
        "\n"
      ],
      "execution_count": 118,
      "outputs": []
    },
    {
      "cell_type": "code",
      "metadata": {
        "id": "jfxTJUFOoj1W"
      },
      "source": [
        "Riaz = EnterMarks(30,50,40)\n",
        "Rohan = EnterMarks(100,100,100)\n",
        "Shubham = EnterMarks(50,50,20)\n"
      ],
      "execution_count": 119,
      "outputs": []
    },
    {
      "cell_type": "code",
      "metadata": {
        "colab": {
          "base_uri": "https://localhost:8080/"
        },
        "id": "Tfh5DbaForo5",
        "outputId": "5724f6c4-692f-42c6-cdec-149124f4c802"
      },
      "source": [
        "Riaz.show_marks()\n",
        "Riaz.max_marks()\n"
      ],
      "execution_count": 121,
      "outputs": [
        {
          "output_type": "stream",
          "text": [
            "The marks in Maths is  30\n",
            "The marks in Physics is  50\n",
            "The marks in Chem is  40\n"
          ],
          "name": "stdout"
        },
        {
          "output_type": "execute_result",
          "data": {
            "text/plain": [
              "50"
            ]
          },
          "metadata": {
            "tags": []
          },
          "execution_count": 121
        }
      ]
    },
    {
      "cell_type": "code",
      "metadata": {
        "id": "O_OkpIdYylM7"
      },
      "source": [
        ""
      ],
      "execution_count": null,
      "outputs": []
    }
  ]
}